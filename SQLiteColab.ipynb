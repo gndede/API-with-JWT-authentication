{
  "nbformat": 4,
  "nbformat_minor": 0,
  "metadata": {
    "colab": {
      "name": "SQLiteColab.ipynb",
      "private_outputs": true,
      "provenance": [],
      "authorship_tag": "ABX9TyO51qwqtanhplYkdoOHsHoU",
      "include_colab_link": true
    },
    "kernelspec": {
      "name": "python3",
      "display_name": "Python 3"
    }
  },
  "cells": [
    {
      "cell_type": "markdown",
      "metadata": {
        "id": "view-in-github",
        "colab_type": "text"
      },
      "source": [
        "<a href=\"https://colab.research.google.com/github/gndede/API-with-JWT-authentication/blob/master/SQLiteColab.ipynb\" target=\"_parent\"><img src=\"https://colab.research.google.com/assets/colab-badge.svg\" alt=\"Open In Colab\"/></a>"
      ]
    },
    {
      "cell_type": "code",
      "metadata": {
        "id": "RYm8NC5NR5N6"
      },
      "source": [
        "('STATE', 'GrandElectors'). GrandElectors_by_state\n",
        "\n",
        "('State', 'Population') . Population_by_state\n",
        "\n",
        "\n",
        "SELECT\n",
        "\tSTATE,\n",
        "\tGrandElectors,\n",
        "FROM\n",
        "\tGrandElectors_by_state\n",
        "INNER JOIN Population_by_state ON Population_by_state.State = GrandElectors_by_state.State;"
      ],
      "execution_count": null,
      "outputs": []
    },
    {
      "cell_type": "code",
      "metadata": {
        "id": "5ILfptQCTie8"
      },
      "source": [
        "#https://stackoverflow.com/questions/50461696/querying-sqlite-database-file-in-google-colab\n",
        "#https://datasciencity.com/2020/12/04/how-to-use-sqlite-database-on-google-colab/\n",
        "#https://colab.research.google.com/github/tdmdal/mma-sql/blob/master/docs/SQL_Intro_Sqlite.ipynb\n",
        "#https://colab.research.google.com/github/tdmdal/mma-sql/blob/master/docs/SQL_Intro_Sqlite.ipynb#scrollTo=vd921rwiP5lr"
      ],
      "execution_count": null,
      "outputs": []
    },
    {
      "cell_type": "code",
      "metadata": {
        "id": "62BizroPgoRu"
      },
      "source": [
        "# download Northwind SQLite DB\n",
        "!wget https://tdmdal.github.io/mma-sql/data/northwind.sqlite3"
      ],
      "execution_count": null,
      "outputs": []
    },
    {
      "cell_type": "code",
      "metadata": {
        "id": "tRTPIdUFgyAr"
      },
      "source": [
        "# load the SQL magic extension\n",
        "# https://github.com/catherinedevlin/ipython-sql\n",
        "# this extension allows us to connect to DBs and issue SQL command\n",
        "%load_ext sql"
      ],
      "execution_count": null,
      "outputs": []
    },
    {
      "cell_type": "code",
      "metadata": {
        "id": "afFj5nJ6g5wI"
      },
      "source": [
        "# now we can use the magic extension to connect to our SQLite DB\n",
        "# use %sql to write an inline SQL command\n",
        "# use %%sql to write SQL commands in a cell\n",
        "%sql sqlite:///northwind.sqlite3"
      ],
      "execution_count": null,
      "outputs": []
    },
    {
      "cell_type": "code",
      "metadata": {
        "id": "DmVMR_gIhYRN"
      },
      "source": [
        "#After connecting to the Northwind DB, let's first check what database engine we are using.\n",
        "%%sql\n",
        "SELECT sqlite_version();"
      ],
      "execution_count": null,
      "outputs": []
    },
    {
      "cell_type": "code",
      "metadata": {
        "id": "WcQ4kfZQUn0c"
      },
      "source": [
        "SELECT\n",
        "\tSTATE,\n",
        "\tGrandElectors\n",
        "FROM\n",
        "\tGrandElectors_by_state\n",
        "INNER JOIN Population_by_state ON Population_by_state.State = GrandElectors_by_state.STATE;"
      ],
      "execution_count": null,
      "outputs": []
    }
  ]
}