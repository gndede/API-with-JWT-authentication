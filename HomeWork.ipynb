{
  "nbformat": 4,
  "nbformat_minor": 0,
  "metadata": {
    "colab": {
      "name": "HomeWork.ipynb",
      "private_outputs": true,
      "provenance": [],
      "collapsed_sections": [],
      "include_colab_link": true
    },
    "kernelspec": {
      "name": "python3",
      "display_name": "Python 3"
    },
    "language_info": {
      "name": "python"
    }
  },
  "cells": [
    {
      "cell_type": "markdown",
      "metadata": {
        "id": "view-in-github",
        "colab_type": "text"
      },
      "source": [
        "<a href=\"https://colab.research.google.com/github/gndede/API-with-JWT-authentication/blob/master/HomeWork.ipynb\" target=\"_parent\"><img src=\"https://colab.research.google.com/assets/colab-badge.svg\" alt=\"Open In Colab\"/></a>"
      ]
    },
    {
      "cell_type": "code",
      "execution_count": null,
      "metadata": {
        "id": "udml5CAoTFB9"
      },
      "outputs": [],
      "source": [
        "#Demonstration of Complex Number- Sum of two Complex Numbers\n",
        "a=7+8j\n",
        "b=3.1+6j\n",
        "c=a+b\n",
        "print(\"Sum of two Complex Numbers\")\n",
        "print(a,\"+\",b,\"=\",c)"
      ]
    },
    {
      "cell_type": "code",
      "source": [
        "name = Fred\n",
        "\n",
        "freds_contacts = ['Firstname','secondname', 'address', 'zipcode','city']\n"
      ],
      "metadata": {
        "id": "RcFP7QYxUJn0"
      },
      "execution_count": null,
      "outputs": []
    },
    {
      "cell_type": "code",
      "source": [
        "freds_contacts = ['1':'Firstname','2':'secondname', '3':'address', '4':'zipcode','5':'city']\n",
        "freds_contacts1 = ['7':'phone','8':'email', '9':'age', '10':'country','11':'continent']"
      ],
      "metadata": {
        "id": "kLrYDw6uYYKf"
      },
      "execution_count": null,
      "outputs": []
    },
    {
      "cell_type": "code",
      "source": [
        "freds_contacts = {1:'Fred'2:'Otieno' 3:'412 Rocket Place'4:'77012'5:'Houston'}\n",
        "#freds_contacts1 = ['7':'phone','8':'email', '9':12, '10':'country','11':'continent']"
      ],
      "metadata": {
        "id": "tpkM1STkZUR4"
      },
      "execution_count": null,
      "outputs": []
    },
    {
      "cell_type": "code",
      "source": [
        "print(freds_contacts)"
      ],
      "metadata": {
        "id": "-vQJ9Cx8ZIrJ"
      },
      "execution_count": null,
      "outputs": []
    },
    {
      "cell_type": "code",
      "source": [
        "Phonedict={\"Tambo\":9876567843,\"Akinyi\":7650983457,\"Gabby\":9067208769,\"Sister\":9870987067}"
      ],
      "metadata": {
        "id": "Gw1_eSsRah33"
      },
      "execution_count": null,
      "outputs": []
    },
    {
      "cell_type": "code",
      "source": [
        "print(Phonedict)"
      ],
      "metadata": {
        "id": "SpGfQ2cQazD4"
      },
      "execution_count": null,
      "outputs": []
    },
    {
      "cell_type": "code",
      "source": [
        " #Create a dictionary as a homework problem and in the home\n",
        " #make the key:value pair for: \n",
        " #firstname, lastname, email, phone, address, city, zipcode and state.\n",
        " \n",
        " #Something like below:\n",
        "  \n",
        "# dictionionary_data: 'phone':8173549856, city:'Houston' \n",
        "# Python3 code to convert \n",
        "# a string to a dictionary\n",
        "  \n",
        "# Initializing String \n",
        "#string = \"{'Father':49, 'Mother':34, 'Child':5}\"\n",
        "string = \"{'firstname': Fredrick , 'lastname': Tambo, 'email': fredtambo@gmail.com, 'phone':  817-76-7801, 'address': 30 N Misty Canyon PL, 'city': The Woodlands, 'zipcode': 77385 ,'state': TX}\"\n",
        "  \n",
        " #eval() convert string to dictionary\n",
        " \n",
        "freddictionary = eval(string)\n",
        "print(freddictionary)\n",
        "print(freddictionary['firstname'])\n",
        "print(freddictionary['lastname'])\n",
        " #freddictionary ={\"firstname\": Fredrick , \"lastname\": Tambo, \"email\": fredtambo@gmail.com, \"phone\":  817-76-7801, \"address\": 30 N Misty Canyon PL, \"city\": The Woodlands, \"zipcode\": 77385 ,\"state\": TX}\n",
        " "
      ],
      "metadata": {
        "id": "T3gTG06ShGH3"
      },
      "execution_count": null,
      "outputs": []
    },
    {
      "cell_type": "code",
      "source": [
        "#Initializing String \n",
        "#string = \"{'Father':49, 'Mother':34, 'Child':5}\"\n",
        "#string = \"{'firstname': Fredrick , 'lastname': Tambo, 'address':55}\"\n",
        "\n",
        "my_dict = {\"Fred\": {\"name\": \"Fred Tambo\", \"address\": \"30 N Misty Canyon PL \", \"phone\": \"940-365-6589\", \"city\":\"The Woodlands\"}, \n",
        "           \"Michael\": {\"name\": \"Michael Tambo\", \"address\": \"3 Tivoli Paris\", \"phone\": \"2563-365-8542\",  \"city\":\"Raleigh\"},\n",
        "            \"Betty\": {\"name\": \"Betty Tambo\", \"address\": \"4 White House Washington\", \"phone\": \"817-325-6524\",  \"city\":\"Mansfield\"}\n",
        "          \n",
        "         }\n",
        "\t\n",
        "first = my_dict[\"Fred\"][\"name\"]\n",
        "adrress= my_dict[\"Fred\"][\"address\"]\n",
        "city= my_dict[\"Fred\"][\"city\"]\n",
        "phone= my_dict[\"Fred\"][\"phone\"]\n",
        "\n",
        "first1 = my_dict[\"Betty\"][\"name\"]\n",
        "adrress1= my_dict[\"Betty\"][\"address\"]\n",
        "city1= my_dict[\"Betty\"][\"city\"]\n",
        "phone1= my_dict[\"Betty\"][\"phone\"]\n",
        "\n",
        "first2 = my_dict[\"Michael\"][\"name\"]\n",
        "adrress2= my_dict[\"Michael\"][\"address\"]\n",
        "city2= my_dict[\"Michael\"][\"city\"]\n",
        "phone2= my_dict[\"Michael\"][\"phone\"]\n",
        "\n",
        "\n",
        "print(first, '\\n', adrress, '\\n', city, '\\n',phone)\n",
        "\n",
        "print(\"\\n\")\n",
        "\n",
        "print(first1, '\\n', adrress1, '\\n', city1, '\\n',phone1)\n",
        "\n",
        "print(\"\\n\")\n",
        "\n",
        "print(first2, '\\n', adrress2, '\\n', city2, '\\n',phone2)\n"
      ],
      "metadata": {
        "id": "sGdEv00MQLIy"
      },
      "execution_count": null,
      "outputs": []
    }
  ]
}