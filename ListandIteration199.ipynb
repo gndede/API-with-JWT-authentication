{
  "nbformat": 4,
  "nbformat_minor": 0,
  "metadata": {
    "colab": {
      "name": "ListandIteration199.ipynb",
      "private_outputs": true,
      "provenance": [],
      "collapsed_sections": [],
      "authorship_tag": "ABX9TyN8m//eHxDyjnKbcRpe+2Lk",
      "include_colab_link": true
    },
    "kernelspec": {
      "name": "python3",
      "display_name": "Python 3"
    },
    "language_info": {
      "name": "python"
    }
  },
  "cells": [
    {
      "cell_type": "markdown",
      "metadata": {
        "id": "view-in-github",
        "colab_type": "text"
      },
      "source": [
        "<a href=\"https://colab.research.google.com/github/gndede/API-with-JWT-authentication/blob/master/ListandIteration199.ipynb\" target=\"_parent\"><img src=\"https://colab.research.google.com/assets/colab-badge.svg\" alt=\"Open In Colab\"/></a>"
      ]
    },
    {
      "cell_type": "code",
      "metadata": {
        "id": "uz7WFHOtaMmr"
      },
      "source": [
        "#Equations used when Estimated average glucose(mg/dL) is entered: \n",
        "#A1C(%) = (Estimated average glucose(mg/dL) + 46.7) / 28.7. \n",
        "#A1C(mmol/mol) = 10.929 * (A1C(%) - 2.15)"
      ],
      "execution_count": null,
      "outputs": []
    },
    {
      "cell_type": "code",
      "metadata": {
        "id": "sK5jQwqeZqrl"
      },
      "source": [
        "listA = []\n",
        "# Input number of elemetns\n",
        "n = int(input(\"Enter number of elements in the list : \"))\n",
        "# iterating till the range\n",
        "for i in range(0, n):\n",
        "   print(\"Enter element No-{}: \".format(i+1))\n",
        "   elm = int(input())\n",
        "   listA.append(elm) # adding the element\n",
        "print(\"The entered list is: \\n\",listA)"
      ],
      "execution_count": null,
      "outputs": []
    },
    {
      "cell_type": "code",
      "metadata": {
        "id": "QM0SMiqFaoiN"
      },
      "source": [
        "#What is A1C? Performed by your doctor during your regular visits, your A1C test measures your average blood sugar levels by taking a sample of hemoglobin A1C cells—a component of your red blood cells."
      ],
      "execution_count": null,
      "outputs": []
    },
    {
      "cell_type": "code",
      "metadata": {
        "id": "t1Dp1TAUbPIL"
      },
      "source": [
        "#The A1C is a blood test that helps determine if your diabetes management plan is working well. (Both Type 1 and Type 2 take this test.) It’s done every 2-3 months to find out what your average blood sugar has been. (You may also hear this test called glycosylated hemoglobin, glycohemoglobin, hemoglobin A1c, and HbA1c.) A1c is the most common name for it though."
      ],
      "execution_count": null,
      "outputs": []
    },
    {
      "cell_type": "code",
      "metadata": {
        "id": "yT_JU_KCbavd"
      },
      "source": [
        "#https://beyondtype1.org/understanding-your-a1c/\n",
        "#https://www.geeksforgeeks.org/python-type-conversion-in-dictionary-values/\n",
        "#https://www.geeksforgeeks.org/python-convert-a-set-into-dictionary/"
      ],
      "execution_count": null,
      "outputs": []
    },
    {
      "cell_type": "code",
      "metadata": {
        "id": "_RIPwTPZcgM0"
      },
      "source": [
        "# Python program to find the sum\n",
        "# and average of the list\n",
        "  \n",
        "#L = [4, 5, 1, 2, 9, 7, 10, 8]\n",
        "listA\n",
        "  \n",
        "  \n",
        "# variable to store the sum of \n",
        "# the list\n",
        "count = 0\n",
        "  \n",
        "# Finding the sum\n",
        "for i in listA:\n",
        "    count += i\n",
        "      \n",
        "# divide the total elements by\n",
        "# number of elements\n",
        "avg = count/len(listA)\n",
        "print(\"sum = \", count)\n",
        "print(\"average = \", avg)"
      ],
      "execution_count": null,
      "outputs": []
    },
    {
      "cell_type": "code",
      "metadata": {
        "id": "QA2Oc4wsdJ8F"
      },
      "source": [
        "# Python program to find the sum\n",
        "# and average of the list\n",
        "  \n",
        "L = [4, 5, 1, 2, 9, 7, 10, 8]\n",
        "  \n",
        "  \n",
        "# using sum() method\n",
        "count = sum(L)\n",
        "  \n",
        "# finding average\n",
        "avg = count/len(L)\n",
        "  \n",
        "print(\"sum = \", count)\n",
        "print(\"average = \", avg)"
      ],
      "execution_count": null,
      "outputs": []
    }
  ]
}